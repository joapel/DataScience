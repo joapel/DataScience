{
 "cells": [
  {
   "cell_type": "markdown",
   "id": "382cda1e-bd88-4eb5-bc67-3ef69ff34b6f",
   "metadata": {},
   "source": [
    "# Data Science Tools and Ecosystem"
   ]
  },
  {
   "cell_type": "markdown",
   "id": "40f50cf1-3e8b-4b55-a221-7dd1976a643f",
   "metadata": {},
   "source": [
    "In this notebook, Data Science Tools and Ecosystem are summarized."
   ]
  },
  {
   "cell_type": "markdown",
   "id": "5a03592f-9b91-4fb2-ae17-539ec93f71c1",
   "metadata": {},
   "source": [
    "Some of the popular languages that Data Scientists use are:\n",
    "<ol>\n",
    "<li>Python</li>\n",
    "<li>R</li>\n",
    "<li>Sql</li>\n",
    "</ol>"
   ]
  },
  {
   "cell_type": "markdown",
   "id": "fc734a3a-c653-445b-85c2-4058c21a2f23",
   "metadata": {},
   "source": [
    "<b> Objectives: </b>\n",
    "\n",
    "<ul>\n",
    "<li>Create a Jupyter Notebook</li>\n",
    "<li>Insert code and markdown cells</li>\n",
    "<li>Share your notebook through GitHub</li>\n",
    "<li>List popular languages for Data Science</li>\n",
    "</ul>\n",
    "    \n"
   ]
  },
  {
   "cell_type": "markdown",
   "id": "f3ffc742-81c3-40c1-ad6c-12dfeff55e2d",
   "metadata": {},
   "source": [
    "<table style=\"width:20%\">\n",
    "<tr>\n",
    "<th>Data Science Tools</th>\n",
    "</tr>\n",
    "\n",
    "<tr>\n",
    "<td>Jupyter</td>\n",
    "</tr>\n",
    "\n",
    "<tr>\n",
    "<td>RStudio</td>\n",
    "</tr>\n",
    "\n",
    "<tr>\n",
    "<td>Spyder</td>\n",
    "</tr>\n",
    "\n",
    "</table>"
   ]
  },
  {
   "cell_type": "markdown",
   "id": "27f28a47-5f17-456c-9505-139e3a0a1a1d",
   "metadata": {},
   "source": [
    "### Below are a few examples of evaluating arithmetic expressions in Python"
   ]
  },
  {
   "cell_type": "code",
   "execution_count": 2,
   "id": "6a6468c1-ad65-4e96-8552-a30beaccb952",
   "metadata": {},
   "outputs": [
    {
     "data": {
      "text/plain": [
       "17"
      ]
     },
     "execution_count": 2,
     "metadata": {},
     "output_type": "execute_result"
    }
   ],
   "source": [
    "(3*4)+5 #This a simple arithmetic expression to mutiply then add integers"
   ]
  },
  {
   "cell_type": "code",
   "execution_count": 3,
   "id": "8662f61c-b92d-4538-a2db-3f4d15caa049",
   "metadata": {},
   "outputs": [
    {
     "data": {
      "text/plain": [
       "3.3333333333333335"
      ]
     },
     "execution_count": 3,
     "metadata": {},
     "output_type": "execute_result"
    }
   ],
   "source": [
    "200/60 #This will convert 200 minutes to hours by diving by 60"
   ]
  },
  {
   "cell_type": "markdown",
   "id": "0635daa8-786e-49e0-a4c4-c50b3f876e23",
   "metadata": {},
   "source": [
    "<h2> Author </h2>\n",
    "Joaquín Pelayo Bedia"
   ]
  }
 ],
 "metadata": {
  "kernelspec": {
   "display_name": "Python 3 (ipykernel)",
   "language": "python",
   "name": "python3"
  },
  "language_info": {
   "codemirror_mode": {
    "name": "ipython",
    "version": 3
   },
   "file_extension": ".py",
   "mimetype": "text/x-python",
   "name": "python",
   "nbconvert_exporter": "python",
   "pygments_lexer": "ipython3",
   "version": "3.13.0"
  }
 },
 "nbformat": 4,
 "nbformat_minor": 5
}
